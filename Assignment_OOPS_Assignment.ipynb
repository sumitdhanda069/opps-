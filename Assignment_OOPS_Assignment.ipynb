{
  "nbformat": 4,
  "nbformat_minor": 0,
  "metadata": {
    "colab": {
      "provenance": []
    },
    "kernelspec": {
      "name": "python3",
      "display_name": "Python 3"
    },
    "language_info": {
      "name": "python"
    }
  },
  "cells": [
    {
      "cell_type": "markdown",
      "source": [
        "### **Python OOPs Questions**"
      ],
      "metadata": {
        "id": "RHMn5QZwMlsr"
      }
    },
    {
      "cell_type": "code",
      "source": [
        "#1 What is Object-Oriented Programming (OOP)?\n",
        "\n",
        "# Object oriented programming is a way of programming in which everthing is included inside classes and objects of those classes are made.\n",
        "# Classes are like the blueprint and objects are the instances of those classes, classes have attributes/data/properties.\n",
        "# OOps concept helps to solve real world problemes"
      ],
      "metadata": {
        "id": "CaEpOa8WMtBu"
      },
      "execution_count": null,
      "outputs": []
    },
    {
      "cell_type": "code",
      "source": [
        "#2 What is a class in OOP.\n",
        "\n",
        "# Class is a blueprint/template for the creation of objects in OOP, it has some attributes/properties and methods.\n",
        "# example: Animal is a class for objects like lion, dog, cat, pig"
      ],
      "metadata": {
        "id": "qyjWYWJ0avcy"
      },
      "execution_count": null,
      "outputs": []
    },
    {
      "cell_type": "code",
      "source": [
        "#3 What is an object in OOP?\n",
        "\n",
        "# Object is an instance of a class.\n",
        "# It is created using Class as a blueprint.\n",
        "# eg. BMW, Chevy, Honda are objects of class Car"
      ],
      "metadata": {
        "id": "2-3IeWKubEZE"
      },
      "execution_count": null,
      "outputs": []
    },
    {
      "cell_type": "code",
      "source": [
        "#4 What is the difference between abstraction and encapsulation?\n",
        "\n",
        "# Abstraction: abstraction is the concept of hiding non-required information while only displayin the required information.\n",
        "# It hides the code or information that is not required such as the backend coding of a website because it is not required by the user, the user just interacts with the interface.\n",
        "# It hides the complex implementation and just shows what is required.\n",
        "\n",
        "# Encapsulation: Encapsulation is the concept of hiding methods or data, it is bundling of data and methods.\n",
        "# It is achieved using acess modifiers that define the accessibility of data and methods in a class by other.\n",
        "# eg. Public, Private, Protected.\n",
        "# Public: can be accessed by anyone inside and outside the current class.\n",
        "# Private: Can only be accessed inside that particular Class.\n",
        "# Protected: Can only be accessed inside that particular class and its subclass ie. classes derived from it.\n",
        "\n"
      ],
      "metadata": {
        "id": "t-5dXuQsbg6m"
      },
      "execution_count": null,
      "outputs": []
    },
    {
      "cell_type": "code",
      "source": [
        "#5 What are dunder methods in Python+\n",
        "\n",
        "# Dunder methods mean double underscore methods as the names start and end with __ eg... __init__, __str__\n",
        "# They are special methods Python use to do things for creating objects, printing them, adding them and many more etc."
      ],
      "metadata": {
        "id": "T2ruoLXfhyN3"
      },
      "execution_count": null,
      "outputs": []
    },
    {
      "cell_type": "code",
      "source": [
        "#6 Explain the concept of inheritance in OOP?\n",
        "\n",
        "# Inheritance means inheriting the properties/attributes/data/methods by a child class from a parent class.\n",
        "\n",
        "# types of Inheritance:\n",
        "# 1. single: A child class is inherited from only one parent class.\n",
        "# 2. Multilevel: A class is inherited from a parent class and a subclass is inherited from that class. eg. Vehicle->Car->BMW\n",
        "# 3. Multiple Inheritance: a child class is inherited from multiple parent classes.\n",
        "# 4. Hierarichal: It is mixture of all kinds of inheritance."
      ],
      "metadata": {
        "id": "LteUCrqnc9mf"
      },
      "execution_count": null,
      "outputs": []
    },
    {
      "cell_type": "code",
      "source": [
        "#7 What is polymorphism in OOP?\n",
        "\n",
        "# Polymorphism in OOPs means different forms taken by a method based on the type of data is passed.\n",
        "\n",
        "# 2 types:\n",
        "# 1. Method overloading: It refers to a method taking differnt forms on the basis of  parameters passed.\n",
        "# 2. method overriding: It refers that a method will be overriden and the child class method will have more weightage, if same method are present in child and parent, child's method will be used."
      ],
      "metadata": {
        "id": "JMDaZSwHeGCP"
      },
      "execution_count": null,
      "outputs": []
    },
    {
      "cell_type": "code",
      "source": [
        "#8 How is encapsulation achieved in Python?\n",
        "\n",
        "# Encapsulation: Encapsulation is the concept of hiding methods or data, it is bundling of data and methods.\n",
        "# It is achieved using acess modifiers that define the accessibility of data and methods in a class by other.\n",
        "# eg. Public, Private, Protected.\n",
        "# Public: can be accessed by anyone inside and outside the current class. eg. self.name\n",
        "# Private: Can only be accessed inside that particular Class. eg. __ (double underscore) is used infront of method or attribute to make it private ---. self.__name\n",
        "# Protected: Can only be accessed inside that particular class and its subclass ie. classes derived from it. eg, _ (single underscore) is used infront of method or attribute to make it protected. ---> self._name"
      ],
      "metadata": {
        "id": "ESHxgccVfPFA"
      },
      "execution_count": null,
      "outputs": []
    },
    {
      "cell_type": "code",
      "source": [
        "#9 What is a constructor in Python+\n",
        "\n",
        "# Constructor in Python is special function inside class. It make new object and set first things for that object. Constructor name is __init__.\n",
        "# It run automatic when you make new object from class.\n",
        "# It use self word to talk about the object itself."
      ],
      "metadata": {
        "id": "-D-COQAPh_hv"
      },
      "execution_count": null,
      "outputs": []
    },
    {
      "cell_type": "code",
      "source": [
        "#10 What are class and static methods in Python+\n",
        "\n",
        "# Class method belong to whole class, not just one object.\n",
        "# It get cls first, that mean class itself, so it can change class things like class variables.\n",
        "# Mark function with @classmethod so Python know this special method.\n",
        "\n",
        "\n",
        "# Static method no need self or cls, just normal function put inside class.\n",
        "# Mark with @staticmethod so Python know it not use class or object."
      ],
      "metadata": {
        "id": "hlaNFwxsijan"
      },
      "execution_count": null,
      "outputs": []
    },
    {
      "cell_type": "code",
      "source": [
        "#11 What is method overloading in Python+\n",
        "\n",
        "# Method Overloading\n",
        "# Method overloading mean make many functions same name but different how many or what type of inputs."
      ],
      "metadata": {
        "id": "LOefmBS6i4wo"
      },
      "execution_count": null,
      "outputs": []
    },
    {
      "cell_type": "code",
      "source": [
        "#12 What is method overriding in OOP+\n",
        "\n",
        "# Method Overriding:\n",
        "# When subclass make new version of method same name as parent class method.\n",
        "# New method replace old method when call from subclass object.\n",
        "# Use to change or add new behavior in child class without change parent class code."
      ],
      "metadata": {
        "id": "qOo8WtPdi__r"
      },
      "execution_count": null,
      "outputs": []
    },
    {
      "cell_type": "code",
      "source": [
        "#13 What is a property decorator in Python+\n",
        "\n",
        "# Property Decorator: @property make method act like normal attribute (no need call with ()).\n",
        "# Used to get value but keep control, like hide real variable or calculate value when ask.\n"
      ],
      "metadata": {
        "id": "LLplNg8PjOIY"
      },
      "execution_count": null,
      "outputs": []
    },
    {
      "cell_type": "code",
      "source": [
        "#14 Why is polymorphism important in OOP+\n",
        "\n",
        "# Polymorphism important because it let same function work different way for different objects, making code simple and flexible."
      ],
      "metadata": {
        "id": "7a21yH__jdO4"
      },
      "execution_count": null,
      "outputs": []
    },
    {
      "cell_type": "code",
      "source": [
        "#15 What is an abstract class in Python+\n",
        "\n",
        "# Abstract class is class that no make full objects, only for other classes to use.\n",
        "# we cam use abc module and @abstractmethod decorator to make abstract class and methods."
      ],
      "metadata": {
        "id": "vpoB0fjXj1AM"
      },
      "execution_count": null,
      "outputs": []
    },
    {
      "cell_type": "code",
      "source": [
        "#16 What are the advantages of OOP+\n",
        "\n",
        "# OOP help organize code like real world — use objects to group data and behavior together.\n",
        "# different things in OOPs help us:\n",
        "# Easy to reuse code by making new classes from old ones (inheritance).\n",
        "# Polymorphism let same function work different ways, make code flexible.\n",
        "# Encapsulation keep data safe inside object, no one change it direct.\n",
        "# Code easy to maintain and fix because parts (objects) separated and clear."
      ],
      "metadata": {
        "id": "6P2E_7tbkBBm"
      },
      "execution_count": null,
      "outputs": []
    },
    {
      "cell_type": "code",
      "source": [
        "#17 What is the difference between a class variable and an instance variable+\n",
        "\n",
        "# Class variable is shared by all objects of class.... one copy for whole class.\n",
        "# Instance variable belongs to each object..... every object get own copy."
      ],
      "metadata": {
        "id": "NE5RD7qykPsC"
      },
      "execution_count": null,
      "outputs": []
    },
    {
      "cell_type": "code",
      "source": [
        "#18 What is multiple inheritance in Python+\n",
        "\n",
        "# When one class get methods, variables/properties from more than one parent class.\n"
      ],
      "metadata": {
        "id": "Wt3cYd39kZ-e"
      },
      "execution_count": null,
      "outputs": []
    },
    {
      "cell_type": "code",
      "source": [
        "#19 Explain the purpose of ‘’__str__’ and ‘__repr__’ ‘ methods in Python\n",
        "\n",
        "# __str__ gives a simple message about the object.... what we see when they print it.\n",
        "# __repr__ gives a detailed message. what programmers use to understand or recreate the object."
      ],
      "metadata": {
        "id": "vrQorv5Akl4M"
      },
      "execution_count": null,
      "outputs": []
    },
    {
      "cell_type": "code",
      "source": [
        "#20 What is the significance of the ‘super()’ function in Python+\n",
        "\n",
        "# super() allows child class call parent class methods easily.. it helps reuse parent code without writing class name again....it is\n",
        "# Useful in inheritance to extend or modify parent behavior"
      ],
      "metadata": {
        "id": "sFT3xqBdlCfp"
      },
      "execution_count": null,
      "outputs": []
    },
    {
      "cell_type": "code",
      "source": [
        "#21 What is the significance of the __del__ method in Python+\n",
        "\n",
        "# __del__ run when object going to be destroyed, it is used to free resources or do last task before object gone."
      ],
      "metadata": {
        "id": "y2RbXVPVlOvV"
      },
      "execution_count": null,
      "outputs": []
    },
    {
      "cell_type": "code",
      "source": [
        "#22 What is the difference between @staticmethod and @classmethod in Python+\n",
        "\n",
        "# staticmethod doesnt  get self or cls, just normal function inside class, no access to class or object data.\n",
        "# classmethod get cls as first argument it can access or change class variables and work with class itself."
      ],
      "metadata": {
        "id": "UPkAcEU9ldZ6"
      },
      "execution_count": 26,
      "outputs": []
    },
    {
      "cell_type": "code",
      "source": [
        "#23 How does polymorphism work in Python with inheritance+\n",
        "\n",
        "# Child classes make own version of method same name as parent class,When we call method on object, Python use the method of that objects actual class even if variable type is parent.\n",
        "# it allows method do different things for different objects."
      ],
      "metadata": {
        "id": "wV9kXXQ3lvdH"
      },
      "execution_count": null,
      "outputs": []
    },
    {
      "cell_type": "code",
      "source": [
        "#24  What is method chaining in Python OOP+\n",
        "\n",
        "# Method chaining means calling many methods one after another in single line..for method chaining, each method return self (the object), so next method can run on same object.\n",
        "# it helps to make code short and clean"
      ],
      "metadata": {
        "id": "AERSsVvamSXr"
      },
      "execution_count": null,
      "outputs": []
    },
    {
      "cell_type": "code",
      "source": [
        "#25 What is the purpose of the __call__ method in Python?\n",
        "\n",
        "# __call__ method allows to make object work like a function so that we can do obj() and it runs code inside __call__. it is useful when we want object to behave\n",
        "# like function but still keep state or data inside, When we call object with (), Python run __call__ method automatically"
      ],
      "metadata": {
        "id": "fRfrBcymmhsb"
      },
      "execution_count": null,
      "outputs": []
    },
    {
      "cell_type": "markdown",
      "source": [
        "## **`Practical Questions`**"
      ],
      "metadata": {
        "id": "QcFDUW-YMwjV"
      }
    },
    {
      "cell_type": "code",
      "source": [
        "#1 Create a parent class Animal with a method speak() that prints a generic message. Create a child class Dog that overrides the speak() method to print \"Bark!\".\n",
        "\n",
        "class Animal:\n",
        "  def speak(self):\n",
        "    print(\"this a generic message\")\n",
        "\n",
        "class Dog(Animal):\n",
        "  def speak(self):\n",
        "      print(\"this will be overriden\")\n",
        "\n",
        "obj = Dog()\n",
        "obj.speak()"
      ],
      "metadata": {
        "colab": {
          "base_uri": "https://localhost:8080/"
        },
        "id": "L0K5Y-AjMyfp",
        "outputId": "7c0c4835-f40d-41f4-fe3d-54a37e10cdf6"
      },
      "execution_count": null,
      "outputs": [
        {
          "output_type": "stream",
          "name": "stdout",
          "text": [
            "this will be overriden\n"
          ]
        }
      ]
    },
    {
      "cell_type": "code",
      "source": [
        "# 2. Write a program to create an abstract class Shape with a method area(). Derive classes Circle and Rectangle from it and implement the area() method in both.\n",
        "\n",
        "import abc\n",
        "\n",
        "class Shape:\n",
        "  @abc.abstractmethod\n",
        "  def area(self):\n",
        "    pass\n",
        "\n",
        "class Circle(Shape):\n",
        "  def area(self):\n",
        "    return \"area of circle if pi* (r**2)\"\n",
        "\n",
        "class Rectangle(Shape):\n",
        "  def area(self):\n",
        "    return \"area of rectangle if length * breadth\"\n",
        "\n",
        "cir = Circle()\n",
        "print(cir.area())\n",
        "\n",
        "rec = Rectangle()\n",
        "print(rec.area())"
      ],
      "metadata": {
        "colab": {
          "base_uri": "https://localhost:8080/"
        },
        "id": "_4QJ-F-ZNmh0",
        "outputId": "424e61fe-c443-4803-d7d2-1d0a23e42781"
      },
      "execution_count": null,
      "outputs": [
        {
          "output_type": "stream",
          "name": "stdout",
          "text": [
            "area of circle if pi* (r**2)\n",
            "area of rectangle if length * breadth\n"
          ]
        }
      ]
    },
    {
      "cell_type": "code",
      "source": [
        "#3. Implement a multi-level inheritance scenario where a class Vehicle has an attribute type. Derive a class Car\n",
        "# - and further derive a class ElectricCar that adds a battery attribute.\n",
        "\n",
        "class Vehicle:\n",
        "  type =\"This is type of vehicle\"\n",
        "\n",
        "class Car(Vehicle):\n",
        "  pass\n",
        "\n",
        "class ElectricCar(Car):\n",
        "  battery = \"this is battery\"\n",
        "a1 = Vehicle()\n",
        "a2 = Car()\n",
        "a3 = ElectricCar()\n",
        "\n",
        "a3.battery\n",
        "a3.type\n"
      ],
      "metadata": {
        "colab": {
          "base_uri": "https://localhost:8080/",
          "height": 36
        },
        "id": "_IghEu6XQDSq",
        "outputId": "8982d8c0-1d69-46e2-b831-ead5066e335f"
      },
      "execution_count": null,
      "outputs": [
        {
          "output_type": "execute_result",
          "data": {
            "text/plain": [
              "'This is type of vehicle'"
            ],
            "application/vnd.google.colaboratory.intrinsic+json": {
              "type": "string"
            }
          },
          "metadata": {},
          "execution_count": 20
        }
      ]
    },
    {
      "cell_type": "code",
      "source": [
        "#4. Demonstrate polymorphism by creating a base class Bird with a method fly(). Create two derived classes Sparrow and Penguin that override the fly() method.\n",
        "\n",
        "class Bird:\n",
        "  def fly(self):\n",
        "    print(\"this is inside Bird class\")\n",
        "class Sparrow(Bird):\n",
        "  def fly(self):\n",
        "    print(\"this is inside Sparrow class\")\n",
        "class Penguin(Bird):\n",
        "  def fly(self):\n",
        "    print(\"this is inside Penguin class\")\n",
        "\n",
        "obj1 = Sparrow()\n",
        "obj2 = Penguin()\n",
        "obj_parsing = [obj1, obj2]\n",
        "\n",
        "for i in obj_parsing:\n",
        "  i.fly()\n"
      ],
      "metadata": {
        "colab": {
          "base_uri": "https://localhost:8080/"
        },
        "id": "AsOsaHs4R9xE",
        "outputId": "4ea71103-a3fd-4a40-9374-79f87403fdce"
      },
      "execution_count": null,
      "outputs": [
        {
          "output_type": "stream",
          "name": "stdout",
          "text": [
            "this is inside Sparrow class\n",
            "this is inside Penguin class\n"
          ]
        }
      ]
    },
    {
      "cell_type": "code",
      "source": [
        "# 5. Write a program to demonstrate encapsulation by creating a class BankAccount with private attributes balance and methods to deposit, withdraw, and check balance.\n",
        "\n",
        "class BankAccount:\n",
        "  def __init__(self, balance):\n",
        "    self.__balance = balance\n",
        "  def deposite (self, amount):\n",
        "    self.__balance = self.__balance + amount\n",
        "  def withdraw (self, amount):\n",
        "    if self.__balance > amount:\n",
        "      self.__balance = self.__balance - amount\n",
        "      return self.__balance\n",
        "    else:\n",
        "      return \"Available balance is low: Failed\"\n",
        "\n",
        "account_1 = BankAccount(1000)\n",
        "account_1.deposite(550)\n",
        "account_1.withdraw(2200)\n",
        "\n"
      ],
      "metadata": {
        "colab": {
          "base_uri": "https://localhost:8080/",
          "height": 36
        },
        "id": "j7YN9_OGVTF-",
        "outputId": "d97e9a70-096a-4691-b1be-786de600fc73"
      },
      "execution_count": null,
      "outputs": [
        {
          "output_type": "execute_result",
          "data": {
            "text/plain": [
              "'Available balance is low: Failed'"
            ],
            "application/vnd.google.colaboratory.intrinsic+json": {
              "type": "string"
            }
          },
          "metadata": {},
          "execution_count": 57
        }
      ]
    },
    {
      "cell_type": "code",
      "source": [
        "# 6. Demonstrate runtime polymorphism using a method play() in a base class Instrument. Derive classes Guitar and Piano that implement their own version of play().\n",
        "\n",
        "class Instrument:\n",
        "    def play(self):\n",
        "        print(\"Playing an instrument.\")\n",
        "\n",
        "class Guitar(Instrument):\n",
        "    def play(self):\n",
        "        print(\"playing the guitar.\")\n",
        "\n",
        "class Piano(Instrument):\n",
        "    def play(self):\n",
        "        print(\"Playing the piano.\")\n",
        "\n",
        "def perform(instrument):\n",
        "    instrument.play()\n",
        "\n",
        "guitar = Guitar()\n",
        "piano = Piano()\n",
        "\n",
        "perform(guitar)\n",
        "perform(piano)"
      ],
      "metadata": {
        "id": "U6_ipRlWXqYT",
        "colab": {
          "base_uri": "https://localhost:8080/"
        },
        "outputId": "9eaa83b5-219a-479b-c405-b56ef1293ea4"
      },
      "execution_count": 2,
      "outputs": [
        {
          "output_type": "stream",
          "name": "stdout",
          "text": [
            "playing the guitar.\n",
            "Playing the piano.\n"
          ]
        }
      ]
    },
    {
      "cell_type": "code",
      "source": [
        "# 7. Create a class MathOperations with a class method add_numbers() to add two numbers and a static method subtract_numbers() to subtract two numbers.?\n",
        "\n",
        "class MathOperations:\n",
        "\n",
        "    @classmethod\n",
        "    def add_numbers(cls, a, b):\n",
        "        return a + b\n",
        "\n",
        "    @staticmethod\n",
        "    def subtract_numbers(a, b):\n",
        "        return a - b\n",
        "\n",
        "sum_result = MathOperations.add_numbers(10, 5)\n",
        "print(\"Sum:\", sum_result)\n",
        "\n",
        "diff_result = MathOperations.subtract_numbers(10, 5)\n",
        "print(\"Difference:\", diff_result)"
      ],
      "metadata": {
        "colab": {
          "base_uri": "https://localhost:8080/"
        },
        "id": "LXtfhdVld3d0",
        "outputId": "107ee436-3d62-4e17-e504-7e0c3b79170d"
      },
      "execution_count": 4,
      "outputs": [
        {
          "output_type": "stream",
          "name": "stdout",
          "text": [
            "Sum: 15\n",
            "Difference: 5\n"
          ]
        }
      ]
    },
    {
      "cell_type": "code",
      "source": [
        "#8. Implement a class Person with a class method to count the total number of persons created?\n",
        "\n",
        "class Person:\n",
        "    count = 0\n",
        "\n",
        "    def __init__(self, name):\n",
        "        self.name = name\n",
        "        Person.count += 1\n",
        "\n",
        "    @classmethod\n",
        "    def total_persons(cls):\n",
        "        return cls.count\n",
        "\n",
        "p1 = Person(\"ram\")\n",
        "p2 = Person(\"shyam\")\n",
        "p3 = Person(\"babita\")\n",
        "\n",
        "print(\"Total persons created:\", Person.total_persons())"
      ],
      "metadata": {
        "colab": {
          "base_uri": "https://localhost:8080/"
        },
        "id": "_-zXD1lEeOmg",
        "outputId": "20ef8611-53c2-418a-b409-d0649ff40881"
      },
      "execution_count": 6,
      "outputs": [
        {
          "output_type": "stream",
          "name": "stdout",
          "text": [
            "Total persons created: 3\n"
          ]
        }
      ]
    },
    {
      "cell_type": "code",
      "source": [
        "#9. Write a class Fraction with attributes numerator and denominator. Override the str method to display the fraction as \"numerator/denominator\".\n",
        "class Fraction:\n",
        "    def __init__(self, numerator, denominator):\n",
        "        self.numerator = numerator\n",
        "        self.denominator = denominator\n",
        "\n",
        "    def __str__(self):\n",
        "        return f\"{self.numerator}/{self.denominator}\"\n",
        "\n",
        "f1 = Fraction(3, 4)\n",
        "f2 = Fraction(5, 8)\n",
        "\n",
        "print(f1)\n",
        "print(f2)"
      ],
      "metadata": {
        "colab": {
          "base_uri": "https://localhost:8080/"
        },
        "id": "Oyb4WY7bekPn",
        "outputId": "b209e593-754e-4c43-b5ac-552c507f84fd"
      },
      "execution_count": 9,
      "outputs": [
        {
          "output_type": "stream",
          "name": "stdout",
          "text": [
            "3/4\n",
            "5/8\n"
          ]
        }
      ]
    },
    {
      "cell_type": "code",
      "source": [
        "# 10. Demonstrate operator overloading by creating a class Vector and overriding the add method to add two vectors.\n",
        "\n",
        "class Vector:\n",
        "    def __init__(self, x, y):\n",
        "        self.x = x\n",
        "        self.y = y\n",
        "\n",
        "    def __add__(self, other):\n",
        "        return Vector(self.x + other.x, self.y + other.y)\n",
        "\n",
        "    def __str__(self):\n",
        "        return f\"Vector({self.x}, {self.y})\"\n",
        "\n",
        "v1 = Vector(2, 3)\n",
        "v2 = Vector(4, 5)\n",
        "\n",
        "v3 = v1 + v2\n",
        "\n",
        "print(v1)\n",
        "print(v2)\n",
        "print(v3)"
      ],
      "metadata": {
        "colab": {
          "base_uri": "https://localhost:8080/"
        },
        "id": "XbRsZFNoe734",
        "outputId": "2ee22403-9232-4ea8-d778-465c668b2a18"
      },
      "execution_count": 10,
      "outputs": [
        {
          "output_type": "stream",
          "name": "stdout",
          "text": [
            "Vector(2, 3)\n",
            "Vector(4, 5)\n",
            "Vector(6, 8)\n"
          ]
        }
      ]
    },
    {
      "cell_type": "code",
      "source": [
        "# 11. Create a class Person with attributes name and age. Add a method greet() that prints \"Hello, my name is {name} and I am {age} years old.\"\n",
        "\n",
        "class Person:\n",
        "    def __init__(self, name, age):\n",
        "        self.name = name\n",
        "        self.age = age\n",
        "\n",
        "    def greet(self):\n",
        "        print(f\"Hello, my name is {self.name} and I am {self.age} years old.\")\n",
        "\n",
        "\n",
        "p1 = Person(\"ram\", 30)\n",
        "p2 = Person(\"srk\", 25)\n",
        "\n",
        "p1.greet()\n",
        "p2.greet()"
      ],
      "metadata": {
        "colab": {
          "base_uri": "https://localhost:8080/"
        },
        "id": "T87x5qcDfV3z",
        "outputId": "72b484c7-90d3-4186-aedd-67c157e73e24"
      },
      "execution_count": 11,
      "outputs": [
        {
          "output_type": "stream",
          "name": "stdout",
          "text": [
            "Hello, my name is ram and I am 30 years old.\n",
            "Hello, my name is srk and I am 25 years old.\n"
          ]
        }
      ]
    },
    {
      "cell_type": "code",
      "source": [
        "# 12. Implement a class Student with attributes name and grades. Create a method average_grade() to compute the average of the grades.\n",
        "\n",
        "class Student:\n",
        "    def __init__(self, name, grades):\n",
        "        self.name = name\n",
        "        self.grades = grades\n",
        "\n",
        "    def average_grade(self):\n",
        "        if not self.grades:\n",
        "            return 0\n",
        "        return sum(self.grades) / len(self.grades)\n",
        "\n",
        "\n",
        "s1 = Student(\"srk\", [85, 90, 78])\n",
        "s2 = Student(\"salman\", [70, 75, 80, 85])\n",
        "\n",
        "print(f\"{s1.name}'s average grade: {s1.average_grade():.2f}\")\n",
        "print(f\"{s2.name}'s average grade: {s2.average_grade():.2f}\")"
      ],
      "metadata": {
        "colab": {
          "base_uri": "https://localhost:8080/"
        },
        "id": "OPJL0LQkflAD",
        "outputId": "eead7805-6318-4448-8bd9-39c727afdfaf"
      },
      "execution_count": 12,
      "outputs": [
        {
          "output_type": "stream",
          "name": "stdout",
          "text": [
            "srk's average grade: 84.33\n",
            "salman's average grade: 77.50\n"
          ]
        }
      ]
    },
    {
      "cell_type": "code",
      "source": [
        "# 13. Create a class Rectangle with methods set_dimensions() to set the dimensions and area() to calculate the area.\n",
        "\n",
        "class Rectangle:\n",
        "    def __init__(self):\n",
        "        self.width = 0\n",
        "        self.height = 0\n",
        "\n",
        "    def set_dimensions(self, width, height):\n",
        "        self.width = width\n",
        "        self.height = height\n",
        "\n",
        "    def area(self):\n",
        "        return self.width * self.height\n",
        "\n",
        "rect = Rectangle()\n",
        "rect.set_dimensions(5, 10)\n",
        "\n",
        "print(\"Area of rectangle:\", rect.area())"
      ],
      "metadata": {
        "colab": {
          "base_uri": "https://localhost:8080/"
        },
        "id": "tzyh0MF2f0lu",
        "outputId": "669118d2-8a10-4ee1-b9b6-860de366cd6a"
      },
      "execution_count": 14,
      "outputs": [
        {
          "output_type": "stream",
          "name": "stdout",
          "text": [
            "Area of rectangle: 50\n"
          ]
        }
      ]
    },
    {
      "cell_type": "code",
      "source": [
        "# 14. Create a class Employee with a method calculate_salary() that computes the salary based on hours worked and hourly rate. Create a derived class Manager that adds a bonus to the salary\n",
        "\n",
        "class Employee:\n",
        "    def __init__(self, name, hours_worked, hourly_rate):\n",
        "        self.name = name\n",
        "        self.hours_worked = hours_worked\n",
        "        self.hourly_rate = hourly_rate\n",
        "\n",
        "    def calculate_salary(self):\n",
        "        return self.hours_worked * self.hourly_rate\n",
        "\n",
        "\n",
        "class Manager(Employee):\n",
        "    def __init__(self, name, hours_worked, hourly_rate, bonus):\n",
        "        super().__init__(name, hours_worked, hourly_rate)\n",
        "        self.bonus = bonus\n",
        "\n",
        "    def calculate_salary(self):\n",
        "        base_salary = super().calculate_salary()\n",
        "        return base_salary + self.bonus\n",
        "\n",
        "\n",
        "emp = Employee(\"ram\", 40, 20)\n",
        "mgr = Manager(\"srk\", 40, 20, 500)\n",
        "\n",
        "print(f\"{emp.name}'s salary: Rs{emp.calculate_salary()}\")\n",
        "print(f\"{mgr.name}'s salary: Rs {mgr.calculate_salary()}\")"
      ],
      "metadata": {
        "colab": {
          "base_uri": "https://localhost:8080/"
        },
        "id": "1TTIx9ZBf-cG",
        "outputId": "379c803a-f905-4de5-947d-522aef9f9ef1"
      },
      "execution_count": 16,
      "outputs": [
        {
          "output_type": "stream",
          "name": "stdout",
          "text": [
            "ram's salary: Rs800\n",
            "srk's salary: Rs 1300\n"
          ]
        }
      ]
    },
    {
      "cell_type": "code",
      "source": [
        "# 15. Create a class Product with attributes name, price, and quantity. Implement a method total_price() that calculates the total price of the product.\n",
        "\n",
        "class Product:\n",
        "    def __init__(self, name, price, quantity):\n",
        "        self.name = name\n",
        "        self.price = price\n",
        "        self.quantity = quantity\n",
        "\n",
        "    def total_price(self):\n",
        "        return self.price * self.quantity\n",
        "\n",
        "p1 = Product(\"laptop\", 1000, 3)\n",
        "p2 = Product(\"mouse\", 25, 10)\n",
        "\n",
        "print(f\"Total price of {p1.name}: rs{p1.total_price()}\")\n",
        "print(f\"Total price of {p2.name}: rs{p2.total_price()}\")"
      ],
      "metadata": {
        "colab": {
          "base_uri": "https://localhost:8080/"
        },
        "id": "N7LX0OwwgLqg",
        "outputId": "2db79915-08c2-49e2-feda-71e43c6baa3a"
      },
      "execution_count": 18,
      "outputs": [
        {
          "output_type": "stream",
          "name": "stdout",
          "text": [
            "Total price of laptop: rs3000\n",
            "Total price of mouse: rs250\n"
          ]
        }
      ]
    },
    {
      "cell_type": "code",
      "source": [
        "# 16. Create a class Animal with an abstract method sound(). Create two derived classes Cow and Sheep that implement the sound() method\n",
        "\n",
        "from abc import ABC, abstractmethod\n",
        "\n",
        "class Animal(ABC):\n",
        "    @abstractmethod\n",
        "    def sound(self):\n",
        "        pass\n",
        "\n",
        "class Cow(Animal):\n",
        "    def sound(self):\n",
        "        print(\"maaaaa\")\n",
        "\n",
        "class Sheep(Animal):\n",
        "    def sound(self):\n",
        "        print(\"paaaa\")\n",
        "\n",
        "cow = Cow()\n",
        "sheep = Sheep()\n",
        "\n",
        "cow.sound()\n",
        "sheep.sound()\n"
      ],
      "metadata": {
        "colab": {
          "base_uri": "https://localhost:8080/"
        },
        "id": "CBMnX2WRgcc0",
        "outputId": "65393184-74b0-46c8-c2e9-6d780508108f"
      },
      "execution_count": 19,
      "outputs": [
        {
          "output_type": "stream",
          "name": "stdout",
          "text": [
            "maaaaa\n",
            "paaaa\n"
          ]
        }
      ]
    },
    {
      "cell_type": "code",
      "source": [
        "#17. Create a class Book with attributes title, author, and year_published. Add a method get_book_info() that returns a formatted string with the book's details\n",
        "\n",
        "class Book:\n",
        "    def __init__(self, title, author, year_published):\n",
        "        self.title = title\n",
        "        self.author = author\n",
        "        self.year_published = year_published\n",
        "\n",
        "    def get_book_info(self):\n",
        "        return f\"'{self.title}' by {self.author}, published in {self.year_published}\"\n",
        "\n",
        "book1 = Book(\"once upon a time\", \"chetan bhagat\", 2007)\n",
        "print(book1.get_book_info())"
      ],
      "metadata": {
        "colab": {
          "base_uri": "https://localhost:8080/"
        },
        "id": "Yu0NNqGygzhv",
        "outputId": "ee634425-d5be-42e2-adfa-41b207b49b3f"
      },
      "execution_count": 22,
      "outputs": [
        {
          "output_type": "stream",
          "name": "stdout",
          "text": [
            "'once upon a time' by chetan bhagat, published in 2007\n"
          ]
        }
      ]
    },
    {
      "cell_type": "code",
      "source": [
        "# 18. Create a class House with attributes address and price. Create a derived class Mansion that adds anattribute number_of_rooms.\n",
        "\n",
        "class House:\n",
        "    def __init__(self, address, price):\n",
        "        self.address = address\n",
        "        self.price = price\n",
        "\n",
        "class Mansion(House):\n",
        "    def __init__(self, address, price, number_of_rooms):\n",
        "        super().__init__(address, price)\n",
        "        self.number_of_rooms = number_of_rooms\n",
        "\n",
        "house = House(\"t260 new delhi\", 250000)\n",
        "mansion = Mansion(\"456 Mumbai\", 150000, 10)\n",
        "\n",
        "print(f\"House at {house.address} costs rs{house.price}\")\n",
        "\n",
        "print(f\"Mansion at {mansion.address} costs rs{mansion.price} with {mansion.number_of_rooms} rooms\")"
      ],
      "metadata": {
        "colab": {
          "base_uri": "https://localhost:8080/"
        },
        "id": "HsA_32zQhF8R",
        "outputId": "33abc3b2-6477-4804-941f-344268666f94"
      },
      "execution_count": 25,
      "outputs": [
        {
          "output_type": "stream",
          "name": "stdout",
          "text": [
            "House at t260 new delhi costs rs250000\n",
            "Mansion at 456 Mumbai costs rs150000 with 10 rooms\n"
          ]
        }
      ]
    }
  ]
}